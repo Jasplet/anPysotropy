{
 "cells": [
  {
   "cell_type": "code",
   "execution_count": 47,
   "id": "07e5e3c8",
   "metadata": {},
   "outputs": [],
   "source": [
    "from anPysotropy.models import hudson"
   ]
  },
  {
   "cell_type": "code",
   "execution_count": 23,
   "id": "d9a50cb2",
   "metadata": {},
   "outputs": [],
   "source": [
    "import numpy as np\n",
    "import numba"
   ]
  },
  {
   "cell_type": "code",
   "execution_count": 9,
   "id": "35001218",
   "metadata": {},
   "outputs": [],
   "source": [
    "def rot_m(t, p):\n",
    "    '''\n",
    "    Creates a 3x3 rotation matrix for the angles\n",
    "    t (theta) and p (psi)\n",
    "    '''\n",
    "    R = np.zeros((3, 3))\n",
    "    R[0, 0] = np.cos(p) * np.cos(t)\n",
    "    R[0, 1] = -1.0 * np.sin(t)\n",
    "    R[0, 2] = -1.0 * np.sin(p) * np.cos(t)\n",
    "    R[1, 0] = np.cos(p) * np.sin(t)\n",
    "    R[1, 1] = np.cos(t)\n",
    "    R[1, 2] = -1.0 * np.sin(p) * np.sin(t)\n",
    "    R[2, 0] = np.sin(p)\n",
    "    R[2, 1] = 0.0\n",
    "    R[2, 2] = np.cos(p)\n",
    "    return R"
   ]
  },
  {
   "cell_type": "code",
   "execution_count": 29,
   "id": "d59de90e",
   "metadata": {},
   "outputs": [],
   "source": [
    "def rotT(T, g):\n",
    "    gg = np.outer(g, g)\n",
    "    gggg = np.outer(gg, gg).reshape(4 * g.shape)\n",
    "    axes = ((0, 2, 4, 6), (0, 1, 2, 3))\n",
    "    return np.tensordot(gggg, T, axes)"
   ]
  },
  {
   "cell_type": "code",
   "execution_count": 12,
   "id": "25005ad6",
   "metadata": {},
   "outputs": [],
   "source": [
    "def mkiso(lam, mu):\n",
    "    C = np.zeros((3, 3, 3, 3))\n",
    "    C[0, 0, 0, 0] = lam + 2.0 * mu\n",
    "    C[1, 1, 1, 1] = lam + 2.0 * mu\n",
    "    C[2, 2, 2, 2] = lam + 2.0 * mu\n",
    "    C[0, 0, 1, 1] = lam\n",
    "    C[0, 0, 2, 2] = lam\n",
    "    C[1, 1, 0, 0] = lam\n",
    "    C[1, 1, 2, 2] = lam\n",
    "    C[2, 2, 0, 0] = lam\n",
    "    C[2, 2, 1, 1] = lam\n",
    "    C[1, 2, 1, 2] = mu\n",
    "    C[1, 2, 2, 1] = mu\n",
    "    C[2, 1, 1, 2] = mu\n",
    "    C[2, 1, 2, 1] = mu\n",
    "    C[0, 2, 0, 2] = mu\n",
    "    C[0, 2, 2, 0] = mu\n",
    "    C[2, 0, 0, 2] = mu\n",
    "    C[2, 0, 2, 0] = mu\n",
    "    C[0, 1, 0, 1] = mu\n",
    "    C[0, 1, 1, 0] = mu\n",
    "    C[1, 0, 0, 1] = mu\n",
    "    C[1, 0, 1, 0] = mu\n",
    "    return C"
   ]
  },
  {
   "cell_type": "code",
   "execution_count": 42,
   "id": "ca7993dd",
   "metadata": {},
   "outputs": [],
   "source": [
    "@numba.jit(nopython=True)\n",
    "def Rot3333(Cijkl, R):\n",
    "\n",
    "    rot_Cijkl = np.zeros((3, 3, 3, 3))\n",
    "    \n",
    "    for i in range(3):\n",
    "        for j in range(3):\n",
    "            for k in range(3):\n",
    "                for l in range(3):\n",
    "                    t = 0\n",
    "                    for p in range(3):\n",
    "                        for q in range(3):\n",
    "                            for m in range(3):\n",
    "                                for n in range(3):\n",
    "                                    t += R[i, p] * R[j, q] * R[k, m] * R[l, n] * Cijkl[p, q, m, n]\n",
    "                    rot_Cijkl[i, j, k, l] = t\n",
    "    return rot_Cijkl"
   ]
  },
  {
   "cell_type": "markdown",
   "id": "b96638cc",
   "metadata": {},
   "source": []
  },
  {
   "cell_type": "code",
   "execution_count": 39,
   "id": "0fe9f3ab",
   "metadata": {},
   "outputs": [],
   "source": [
    "testC = mkiso(1.0, 2.0)\n",
    "testR = rot_m(np.deg2rad(30), np.deg2rad(45))"
   ]
  },
  {
   "cell_type": "code",
   "execution_count": 45,
   "id": "39a3038d",
   "metadata": {},
   "outputs": [
    {
     "name": "stdout",
     "output_type": "stream",
     "text": [
      "CPU times: user 7.37 ms, sys: 364 μs, total: 7.73 ms\n",
      "Wall time: 8.03 ms\n"
     ]
    }
   ],
   "source": [
    "%%time \n",
    "for i in range(1000):\n",
    "    t1 = Rot3333(testC, testR)\n"
   ]
  },
  {
   "cell_type": "code",
   "execution_count": 44,
   "id": "5c7dc3bd",
   "metadata": {},
   "outputs": [
    {
     "name": "stdout",
     "output_type": "stream",
     "text": [
      "CPU times: user 35.7 ms, sys: 2.34 ms, total: 38 ms\n",
      "Wall time: 37 ms\n"
     ]
    }
   ],
   "source": [
    "%%time \n",
    "for i in range(1000):\n",
    "    t2 = rotT(testC, testR)"
   ]
  },
  {
   "cell_type": "code",
   "execution_count": 5,
   "id": "0cf14132",
   "metadata": {},
   "outputs": [],
   "source": [
    "g = rot_m(np.pi/4, np.pi/4)"
   ]
  },
  {
   "cell_type": "code",
   "execution_count": 7,
   "id": "e6e29c68",
   "metadata": {},
   "outputs": [],
   "source": [
    "t = np.outer(g,g)"
   ]
  },
  {
   "cell_type": "code",
   "execution_count": 8,
   "id": "507e4f9b",
   "metadata": {},
   "outputs": [
    {
     "data": {
      "text/plain": [
       "(9, 9)"
      ]
     },
     "execution_count": 8,
     "metadata": {},
     "output_type": "execute_result"
    }
   ],
   "source": [
    "t.shape"
   ]
  },
  {
   "cell_type": "code",
   "execution_count": 10,
   "id": "f490d347",
   "metadata": {},
   "outputs": [],
   "source": [
    "from anPysotropy.utils.matrix_tools import voight_index_from_3x3_tensor"
   ]
  },
  {
   "cell_type": "code",
   "execution_count": 11,
   "id": "2263671b",
   "metadata": {},
   "outputs": [],
   "source": [
    "import itertools"
   ]
  },
  {
   "cell_type": "code",
   "execution_count": 19,
   "id": "bda953c1",
   "metadata": {},
   "outputs": [
    {
     "name": "stdout",
     "output_type": "stream",
     "text": [
      "0, 0, 0, 0 -> 0, 0\n",
      "0, 0, 0, 1 -> 0, 5\n",
      "0, 0, 0, 2 -> 0, 4\n",
      "0, 0, 1, 0 -> 0, 5\n",
      "0, 0, 1, 1 -> 0, 1\n",
      "0, 0, 1, 2 -> 0, 3\n",
      "0, 0, 2, 0 -> 0, 4\n",
      "0, 0, 2, 1 -> 0, 3\n",
      "0, 0, 2, 2 -> 0, 2\n",
      "0, 1, 0, 0 -> 5, 0\n",
      "0, 1, 0, 1 -> 5, 5\n",
      "0, 1, 0, 2 -> 5, 4\n",
      "0, 1, 1, 0 -> 5, 5\n",
      "0, 1, 1, 1 -> 5, 1\n",
      "0, 1, 1, 2 -> 5, 3\n",
      "0, 1, 2, 0 -> 5, 4\n",
      "0, 1, 2, 1 -> 5, 3\n",
      "0, 1, 2, 2 -> 5, 2\n",
      "0, 2, 0, 0 -> 4, 0\n",
      "0, 2, 0, 1 -> 4, 5\n",
      "0, 2, 0, 2 -> 4, 4\n",
      "0, 2, 1, 0 -> 4, 5\n",
      "0, 2, 1, 1 -> 4, 1\n",
      "0, 2, 1, 2 -> 4, 3\n",
      "0, 2, 2, 0 -> 4, 4\n",
      "0, 2, 2, 1 -> 4, 3\n",
      "0, 2, 2, 2 -> 4, 2\n",
      "1, 0, 0, 0 -> 5, 0\n",
      "1, 0, 0, 1 -> 5, 5\n",
      "1, 0, 0, 2 -> 5, 4\n",
      "1, 0, 1, 0 -> 5, 5\n",
      "1, 0, 1, 1 -> 5, 1\n",
      "1, 0, 1, 2 -> 5, 3\n",
      "1, 0, 2, 0 -> 5, 4\n",
      "1, 0, 2, 1 -> 5, 3\n",
      "1, 0, 2, 2 -> 5, 2\n",
      "1, 1, 0, 0 -> 1, 0\n",
      "1, 1, 0, 1 -> 1, 5\n",
      "1, 1, 0, 2 -> 1, 4\n",
      "1, 1, 1, 0 -> 1, 5\n",
      "1, 1, 1, 1 -> 1, 1\n",
      "1, 1, 1, 2 -> 1, 3\n",
      "1, 1, 2, 0 -> 1, 4\n",
      "1, 1, 2, 1 -> 1, 3\n",
      "1, 1, 2, 2 -> 1, 2\n",
      "1, 2, 0, 0 -> 3, 0\n",
      "1, 2, 0, 1 -> 3, 5\n",
      "1, 2, 0, 2 -> 3, 4\n",
      "1, 2, 1, 0 -> 3, 5\n",
      "1, 2, 1, 1 -> 3, 1\n",
      "1, 2, 1, 2 -> 3, 3\n",
      "1, 2, 2, 0 -> 3, 4\n",
      "1, 2, 2, 1 -> 3, 3\n",
      "1, 2, 2, 2 -> 3, 2\n",
      "2, 0, 0, 0 -> 4, 0\n",
      "2, 0, 0, 1 -> 4, 5\n",
      "2, 0, 0, 2 -> 4, 4\n",
      "2, 0, 1, 0 -> 4, 5\n",
      "2, 0, 1, 1 -> 4, 1\n",
      "2, 0, 1, 2 -> 4, 3\n",
      "2, 0, 2, 0 -> 4, 4\n",
      "2, 0, 2, 1 -> 4, 3\n",
      "2, 0, 2, 2 -> 4, 2\n",
      "2, 1, 0, 0 -> 3, 0\n",
      "2, 1, 0, 1 -> 3, 5\n",
      "2, 1, 0, 2 -> 3, 4\n",
      "2, 1, 1, 0 -> 3, 5\n",
      "2, 1, 1, 1 -> 3, 1\n",
      "2, 1, 1, 2 -> 3, 3\n",
      "2, 1, 2, 0 -> 3, 4\n",
      "2, 1, 2, 1 -> 3, 3\n",
      "2, 1, 2, 2 -> 3, 2\n",
      "2, 2, 0, 0 -> 2, 0\n",
      "2, 2, 0, 1 -> 2, 5\n",
      "2, 2, 0, 2 -> 2, 4\n",
      "2, 2, 1, 0 -> 2, 5\n",
      "2, 2, 1, 1 -> 2, 1\n",
      "2, 2, 1, 2 -> 2, 3\n",
      "2, 2, 2, 0 -> 2, 4\n",
      "2, 2, 2, 1 -> 2, 3\n",
      "2, 2, 2, 2 -> 2, 2\n"
     ]
    }
   ],
   "source": [
    "for i, j, k, l in itertools.product(range(3), range(3), range(3), range(3)):\n",
    "    m = voight_index_from_3x3_tensor(i, j)\n",
    "    n = voight_index_from_3x3_tensor(k, l)\n",
    "    print(f'{i}, {j}, {k}, {l} -> {m}, {n}')\n",
    "    if m < 0 or n < 0:\n",
    "        raise ValueError(f'Invalid voight index: {m}, {n}')"
   ]
  },
  {
   "cell_type": "code",
   "execution_count": null,
   "id": "1b2ee609",
   "metadata": {},
   "outputs": [],
   "source": [
    "def voight_index_from_3x3_tensor(i, j):\n",
    "    '''\n",
    "    Converts indices of the full 3x3x3x3 elastic tensor\n",
    "    to Voight indicies\n",
    "    '''\n",
    "    if i > 5 or j > 5:\n",
    "        raise ValueError(f'Invalid index: {i}, {j}. Dont forget python indexes start at 0')\n",
    "    if i == j:\n",
    "        idx = i\n",
    "    else:\n",
    "        idx = 6 - i - j\n",
    "    return idx"
   ]
  },
  {
   "cell_type": "code",
   "execution_count": 21,
   "id": "1cd531ac",
   "metadata": {},
   "outputs": [
    {
     "data": {
      "text/plain": [
       "0"
      ]
     },
     "execution_count": 21,
     "metadata": {},
     "output_type": "execute_result"
    }
   ],
   "source": [
    "voight_index_from_3x3_tensor(2,4)"
   ]
  },
  {
   "cell_type": "code",
   "execution_count": null,
   "id": "567e3052",
   "metadata": {},
   "outputs": [],
   "source": []
  }
 ],
 "metadata": {
  "kernelspec": {
   "display_name": "devel",
   "language": "python",
   "name": "python3"
  },
  "language_info": {
   "codemirror_mode": {
    "name": "ipython",
    "version": 3
   },
   "file_extension": ".py",
   "mimetype": "text/x-python",
   "name": "python",
   "nbconvert_exporter": "python",
   "pygments_lexer": "ipython3",
   "version": "3.11.11"
  }
 },
 "nbformat": 4,
 "nbformat_minor": 5
}
